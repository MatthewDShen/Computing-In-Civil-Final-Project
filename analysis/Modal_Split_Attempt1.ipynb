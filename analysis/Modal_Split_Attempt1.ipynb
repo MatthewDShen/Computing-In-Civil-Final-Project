{
  "nbformat": 4,
  "nbformat_minor": 0,
  "metadata": {
    "colab": {
      "name": "Modal Split Attempt1.ipynb",
      "provenance": [],
      "collapsed_sections": []
    },
    "kernelspec": {
      "display_name": "Python 3",
      "name": "python3"
    },
    "language_info": {
      "name": "python"
    }
  },
  "cells": [
    {
      "cell_type": "code",
      "metadata": {
        "colab": {
          "base_uri": "https://localhost:8080/"
        },
        "id": "YmVnKF-mvcX0",
        "outputId": "4feaff27-1b58-4bcb-8db3-7bacffcbb489"
      },
      "source": [
        "import pandas as pd\n",
        "import numpy as np\n",
        "import matplotlib.pyplot as pyplot\n",
        "import matplotlib.pyplot as plt\n",
        "import io\n",
        "!pip install choicemodels --\n",
        "import seaborn as sns\n",
        "import statistics\n",
        "import math"
      ],
      "execution_count": null,
      "outputs": [
        {
          "output_type": "stream",
          "text": [
            "Requirement already satisfied: choicemodels in /usr/local/lib/python3.7/dist-packages (0.2.2)\n",
            "Requirement already satisfied: pandas>=0.23 in /usr/local/lib/python3.7/dist-packages (from choicemodels) (1.1.5)\n",
            "Requirement already satisfied: patsy>=0.5 in /usr/local/lib/python3.7/dist-packages (from choicemodels) (0.5.1)\n",
            "Requirement already satisfied: pylogit>=0.2.2 in /usr/local/lib/python3.7/dist-packages (from choicemodels) (1.0.1)\n",
            "Requirement already satisfied: statsmodels>=0.8; python_version >= \"3.6\" in /usr/local/lib/python3.7/dist-packages (from choicemodels) (0.10.2)\n",
            "Requirement already satisfied: scipy>=1.0 in /usr/local/lib/python3.7/dist-packages (from choicemodels) (1.4.1)\n",
            "Requirement already satisfied: numpy>=1.14 in /usr/local/lib/python3.7/dist-packages (from choicemodels) (1.19.5)\n",
            "Requirement already satisfied: python-dateutil>=2.7.3 in /usr/local/lib/python3.7/dist-packages (from pandas>=0.23->choicemodels) (2.8.1)\n",
            "Requirement already satisfied: pytz>=2017.2 in /usr/local/lib/python3.7/dist-packages (from pandas>=0.23->choicemodels) (2018.9)\n",
            "Requirement already satisfied: six in /usr/local/lib/python3.7/dist-packages (from patsy>=0.5->choicemodels) (1.15.0)\n",
            "Requirement already satisfied: future>=0.16 in /usr/local/lib/python3.7/dist-packages (from pylogit>=0.2.2->choicemodels) (0.16.0)\n",
            "Requirement already satisfied: tqdm>=4.15.0 in /usr/local/lib/python3.7/dist-packages (from pylogit>=0.2.2->choicemodels) (4.41.1)\n"
          ],
          "name": "stdout"
        }
      ]
    },
    {
      "cell_type": "code",
      "metadata": {
        "colab": {
          "background_save": true,
          "base_uri": "https://localhost:8080/"
        },
        "id": "1LynUvB8vjB6",
        "outputId": "b2cd48da-7eb5-491f-9678-28409044328c"
      },
      "source": [
        "from google.colab import drive\n",
        "drive.mount('/content/drive')"
      ],
      "execution_count": null,
      "outputs": [
        {
          "output_type": "stream",
          "text": [
            "Mounted at /content/drive\n"
          ],
          "name": "stdout"
        }
      ]
    },
    {
      "cell_type": "code",
      "metadata": {
        "colab": {
          "resources": {
            "http://localhost:8080/nbextensions/google.colab/files.js": {
              "data": "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",
              "headers": [
                [
                  "content-type",
                  "application/javascript"
                ]
              ],
              "ok": true,
              "status": 200,
              "status_text": ""
            }
          },
          "base_uri": "https://localhost:8080/",
          "height": 88
        },
        "id": "aZ3nbP7bvnZE",
        "outputId": "bb07d386-aab7-4bb7-8a57-650e175d1228"
      },
      "source": [
        "from google.colab import files\n",
        "uploaded = files.upload()"
      ],
      "execution_count": null,
      "outputs": [
        {
          "output_type": "display_data",
          "data": {
            "text/html": [
              "\n",
              "     <input type=\"file\" id=\"files-f50f1867-8cd1-41dc-af2f-13b864943a05\" name=\"files[]\" multiple disabled\n",
              "        style=\"border:none\" />\n",
              "     <output id=\"result-f50f1867-8cd1-41dc-af2f-13b864943a05\">\n",
              "      Upload widget is only available when the cell has been executed in the\n",
              "      current browser session. Please rerun this cell to enable.\n",
              "      </output>\n",
              "      <script src=\"/nbextensions/google.colab/files.js\"></script> "
            ],
            "text/plain": [
              "<IPython.core.display.HTML object>"
            ]
          },
          "metadata": {
            "tags": []
          }
        },
        {
          "output_type": "stream",
          "text": [
            "Saving Simplified Copy of Mobility Project Survey (Responses).xlsx to Simplified Copy of Mobility Project Survey (Responses).xlsx\n"
          ],
          "name": "stdout"
        }
      ]
    },
    {
      "cell_type": "code",
      "metadata": {
        "colab": {
          "base_uri": "https://localhost:8080/"
        },
        "id": "k21SWoffvnbu",
        "outputId": "648612fd-fbae-47ce-bfce-4f52ea92c139"
      },
      "source": [
        "df = pd.read_excel(io.BytesIO(uploaded['Simplified Copy of Mobility Project Survey (Responses).xlsx']))\n",
        "df.info\n",
        "\n",
        "df.head()\n",
        "\n",
        "df.columns\n",
        "\n",
        "allresponses = {}\n",
        "for i in df.iloc[:, 1:]:\n",
        "  allresponses[i] = []\n",
        "  for j in df[i]:\n",
        "    if j not in allresponses[i]:\n",
        "      allresponses[i].append(j)\n",
        "\n",
        "\n",
        "for (key, value) in allresponses.items():\n",
        "  print(key,value)"
      ],
      "execution_count": null,
      "outputs": [
        {
          "output_type": "stream",
          "text": [
            "Age Group ['18-22', '23-28', '28-35', '> 40']\n",
            "Gender ['Female', 'Male', 'Nonbinary']\n",
            "Average Family Income ['$61k-$80k', '$41k-$60k', '> $100k', '< $28k', '$81k-$100k', '$28k-$40k']\n",
            "Residence ['Live with Parents at home', 'Dorming', 'Live on my own']\n",
            "Preferred Mode of Transportation ['MTA Transit/Subway', 'Bike', 'Walking', 'Taxi/ Uber/ Lyft', 'NYU Bus Shuttle System', 'Personal Vehicle']\n",
            "Travel Time [40, 12, 20, 60, 25, 50, 90, 15, 7, 30, 45, 10, 80, 5, 120, 150, 16, 35, 75]\n",
            "Cost [5.5, 0.0, 13.0, 20.0, 5.0, 3.25, 40.0, 3.0, 6.0, 4.0, 4.5, 1.0, 25.0, 5.25, 15.0]\n",
            "Origin ['Tandon ', 'Lafayette', 'Union Square', 'Park Slope', 'Bayridge', 'Washington Square', 'Bronx ', 'Fort Green', 'Queens', 'Clark ', 'Stamford CT', 'Grand Central ', 'Gramercy Green', 'Delancey ', 'Founders', 'Spring Street ', 'Stuyvesant Town', 'Astor Place', 'Broome', 'Penn Station ', 'Gould Plaza', 'Coral Tower', 'Ridgewood ', 'Third Ave', 'Greenwich Village', 'East Village', 'East Elmhurst', 'Hunts Point', 'Brownsville', 'East New York', 'Brentwood  ']\n",
            "Destination ['Tandon', 'Washington Square', 'Stamford CT', 'Gramercy Green', 'Lafayette', 'Greenwich Village', 'Penn Station', 'Hunts Point', 'Bronx']\n",
            "Purpose ['Classes', 'Recreation', 'Work', 'Food', 'Class', 'classes', 'Classes ', 'Shopping']\n",
            "Inconveniences ['Waiting Period', 'Weather', 'Cost', 'Duration', 'Safety', 'Weather ', 'Distance', 'Unreliability ', 'Crowdedness', 'Unreliability', 'Cost, Safety', 'Waiting period ', 'Waiting period']\n",
            "Comforts ['Cost', 'Efficiency', 'Speed', 'Space', 'Clean', 'Frequency', 'Seating Availability', 'Safety', 'Comfortable', 'Seating Availability ', 'Reliability', 'Comfortable, Safety', 'Comfortable ', 'Safety ', 'Seating Availability. ']\n"
          ],
          "name": "stdout"
        }
      ]
    },
    {
      "cell_type": "code",
      "metadata": {
        "colab": {
          "base_uri": "https://localhost:8080/"
        },
        "id": "QF-QsotgxqXk",
        "outputId": "7680d101-ec03-4e0d-aa0c-58afaf49daf2"
      },
      "source": [
        "#Counting all the unique responses\n",
        "for i in allresponses.keys():\n",
        "  print(\"ALL the counted responses this key:\", i)\n",
        "  print(df.value_counts(i))\n",
        "  print('-'*50)"
      ],
      "execution_count": null,
      "outputs": [
        {
          "output_type": "stream",
          "text": [
            "ALL the counted responses this key: Age Group\n",
            "Age Group\n",
            "18-22    103\n",
            "23-28     10\n",
            "> 40       7\n",
            "28-35      4\n",
            "dtype: int64\n",
            "--------------------------------------------------\n",
            "ALL the counted responses this key: Gender\n",
            "Gender\n",
            "Male         65\n",
            "Female       56\n",
            "Nonbinary     3\n",
            "dtype: int64\n",
            "--------------------------------------------------\n",
            "ALL the counted responses this key: Average Family Income\n",
            "Average Family Income\n",
            "> $100k       42\n",
            "$28k-$40k     19\n",
            "$61k-$80k     17\n",
            "< $28k        16\n",
            "$41k-$60k     16\n",
            "$81k-$100k    14\n",
            "dtype: int64\n",
            "--------------------------------------------------\n",
            "ALL the counted responses this key: Residence\n",
            "Residence\n",
            "Dorming                      47\n",
            "Live on my own               39\n",
            "Live with Parents at home    38\n",
            "dtype: int64\n",
            "--------------------------------------------------\n",
            "ALL the counted responses this key: Preferred Mode of Transportation\n",
            "Preferred Mode of Transportation\n",
            "MTA Transit/Subway        69\n",
            "Walking                   25\n",
            "NYU Bus Shuttle System    21\n",
            "Taxi/ Uber/ Lyft           3\n",
            "Personal Vehicle           3\n",
            "Bike                       3\n",
            "dtype: int64\n",
            "--------------------------------------------------\n",
            "ALL the counted responses this key: Travel Time\n",
            "Travel Time\n",
            "20     23\n",
            "30     20\n",
            "15     17\n",
            "25     12\n",
            "45      8\n",
            "90      7\n",
            "10      7\n",
            "60      6\n",
            "40      4\n",
            "150     3\n",
            "7       3\n",
            "50      3\n",
            "12      2\n",
            "35      2\n",
            "80      2\n",
            "5       2\n",
            "16      1\n",
            "120     1\n",
            "75      1\n",
            "dtype: int64\n",
            "--------------------------------------------------\n",
            "ALL the counted responses this key: Cost\n",
            "Cost\n",
            "5.50     55\n",
            "0.00     49\n",
            "5.25      3\n",
            "5.00      3\n",
            "20.00     2\n",
            "13.00     2\n",
            "6.00      2\n",
            "40.00     1\n",
            "25.00     1\n",
            "15.00     1\n",
            "4.50      1\n",
            "4.00      1\n",
            "3.25      1\n",
            "3.00      1\n",
            "1.00      1\n",
            "dtype: int64\n",
            "--------------------------------------------------\n",
            "ALL the counted responses this key: Origin\n",
            "Origin\n",
            "Tandon               36\n",
            "Washington Square    17\n",
            "Lafayette            17\n",
            "Gramercy Green       12\n",
            "Bronx                 6\n",
            "Queens                3\n",
            "Union Square          3\n",
            "Stuyvesant Town       2\n",
            "Penn Station          2\n",
            "Park Slope            2\n",
            "Broome                2\n",
            "Greenwich Village     2\n",
            "East Elmhurst         2\n",
            "East New York         1\n",
            "Bayridge              1\n",
            "Brentwood             1\n",
            "Brownsville           1\n",
            "Clark                 1\n",
            "Coral Tower           1\n",
            "Delancey              1\n",
            "Founders              1\n",
            "East Village          1\n",
            "Fort Green            1\n",
            "Stamford CT           1\n",
            "Gould Plaza           1\n",
            "Grand Central         1\n",
            "Hunts Point           1\n",
            "Third Ave             1\n",
            "Ridgewood             1\n",
            "Spring Street         1\n",
            "Astor Place           1\n",
            "dtype: int64\n",
            "--------------------------------------------------\n",
            "ALL the counted responses this key: Destination\n",
            "Destination\n",
            "Tandon               64\n",
            "Washington Square    48\n",
            "Lafayette             4\n",
            "Gramercy Green        2\n",
            "Bronx                 2\n",
            "Stamford CT           1\n",
            "Penn Station          1\n",
            "Hunts Point           1\n",
            "Greenwich Village     1\n",
            "dtype: int64\n",
            "--------------------------------------------------\n",
            "ALL the counted responses this key: Purpose\n",
            "Purpose\n",
            "Classes       97\n",
            "Work          12\n",
            "Food           6\n",
            "Recreation     4\n",
            "Shopping       2\n",
            "classes        1\n",
            "Classes        1\n",
            "Class          1\n",
            "dtype: int64\n",
            "--------------------------------------------------\n",
            "ALL the counted responses this key: Inconveniences\n",
            "Inconveniences\n",
            "Waiting Period     34\n",
            "Cost               18\n",
            "Duration           14\n",
            "Distance           14\n",
            "Unreliability      12\n",
            "Weather            11\n",
            "Safety             10\n",
            "Crowdedness         4\n",
            "Unreliability       3\n",
            "Weather             1\n",
            "Waiting period      1\n",
            "Waiting period      1\n",
            "Cost, Safety        1\n",
            "dtype: int64\n",
            "--------------------------------------------------\n",
            "ALL the counted responses this key: Comforts\n",
            "Comforts\n",
            "Clean                     20\n",
            "Cost                      19\n",
            "Speed                     16\n",
            "Safety                    13\n",
            "Frequency                 13\n",
            "Comfortable               10\n",
            "Seating Availability       9\n",
            "Seating Availability       9\n",
            "Reliability                8\n",
            "Efficiency                 2\n",
            "Space                      1\n",
            "Seating Availability.      1\n",
            "Safety                     1\n",
            "Comfortable, Safety        1\n",
            "Comfortable                1\n",
            "dtype: int64\n",
            "--------------------------------------------------\n"
          ],
          "name": "stdout"
        }
      ]
    },
    {
      "cell_type": "code",
      "metadata": {
        "colab": {
          "base_uri": "https://localhost:8080/"
        },
        "id": "wIY65xKNiSAD",
        "outputId": "fe979c8d-c4cf-45f6-d133-f85a8dd2394e"
      },
      "source": [
        "#Percent responses\n",
        "for i in allresponses.keys():\n",
        "  print(\"Percent of responses:\")\n",
        "  print(df[i].value_counts(normalize=True))\n",
        "  print('-'*50)"
      ],
      "execution_count": null,
      "outputs": [
        {
          "output_type": "stream",
          "text": [
            "Percent of responses:\n",
            "18-22    0.830645\n",
            "23-28    0.080645\n",
            "> 40     0.056452\n",
            "28-35    0.032258\n",
            "Name: Age Group, dtype: float64\n",
            "--------------------------------------------------\n",
            "Percent of responses:\n",
            "Male         0.524194\n",
            "Female       0.451613\n",
            "Nonbinary    0.024194\n",
            "Name: Gender, dtype: float64\n",
            "--------------------------------------------------\n",
            "Percent of responses:\n",
            "> $100k       0.338710\n",
            "$28k-$40k     0.153226\n",
            "$61k-$80k     0.137097\n",
            "< $28k        0.129032\n",
            "$41k-$60k     0.129032\n",
            "$81k-$100k    0.112903\n",
            "Name: Average Family Income, dtype: float64\n",
            "--------------------------------------------------\n",
            "Percent of responses:\n",
            "Dorming                      0.379032\n",
            "Live on my own               0.314516\n",
            "Live with Parents at home    0.306452\n",
            "Name: Residence, dtype: float64\n",
            "--------------------------------------------------\n",
            "Percent of responses:\n",
            "MTA Transit/Subway        0.556452\n",
            "Walking                   0.201613\n",
            "NYU Bus Shuttle System    0.169355\n",
            "Taxi/ Uber/ Lyft          0.024194\n",
            "Bike                      0.024194\n",
            "Personal Vehicle          0.024194\n",
            "Name: Preferred Mode of Transportation, dtype: float64\n",
            "--------------------------------------------------\n",
            "Percent of responses:\n",
            "20     0.185484\n",
            "30     0.161290\n",
            "15     0.137097\n",
            "25     0.096774\n",
            "45     0.064516\n",
            "10     0.056452\n",
            "90     0.056452\n",
            "60     0.048387\n",
            "40     0.032258\n",
            "7      0.024194\n",
            "50     0.024194\n",
            "150    0.024194\n",
            "12     0.016129\n",
            "5      0.016129\n",
            "35     0.016129\n",
            "80     0.016129\n",
            "16     0.008065\n",
            "75     0.008065\n",
            "120    0.008065\n",
            "Name: Travel Time, dtype: float64\n",
            "--------------------------------------------------\n",
            "Percent of responses:\n",
            "5.50     0.443548\n",
            "0.00     0.395161\n",
            "5.25     0.024194\n",
            "5.00     0.024194\n",
            "6.00     0.016129\n",
            "20.00    0.016129\n",
            "13.00    0.016129\n",
            "15.00    0.008065\n",
            "25.00    0.008065\n",
            "1.00     0.008065\n",
            "4.50     0.008065\n",
            "4.00     0.008065\n",
            "3.00     0.008065\n",
            "40.00    0.008065\n",
            "3.25     0.008065\n",
            "Name: Cost, dtype: float64\n",
            "--------------------------------------------------\n",
            "Percent of responses:\n",
            "Tandon               0.290323\n",
            "Lafayette            0.137097\n",
            "Washington Square    0.137097\n",
            "Gramercy Green       0.096774\n",
            "Bronx                0.048387\n",
            "Union Square         0.024194\n",
            "Queens               0.024194\n",
            "Stuyvesant Town      0.016129\n",
            "Greenwich Village    0.016129\n",
            "Penn Station         0.016129\n",
            "Park Slope           0.016129\n",
            "East Elmhurst        0.016129\n",
            "Broome               0.016129\n",
            "Grand Central        0.008065\n",
            "Gould Plaza          0.008065\n",
            "East Village         0.008065\n",
            "Third Ave            0.008065\n",
            "East New York        0.008065\n",
            "Brentwood            0.008065\n",
            "Bayridge             0.008065\n",
            "Spring Street        0.008065\n",
            "Brownsville          0.008065\n",
            "Clark                0.008065\n",
            "Delancey             0.008065\n",
            "Hunts Point          0.008065\n",
            "Ridgewood            0.008065\n",
            "Coral Tower          0.008065\n",
            "Stamford CT          0.008065\n",
            "Astor Place          0.008065\n",
            "Fort Green           0.008065\n",
            "Founders             0.008065\n",
            "Name: Origin, dtype: float64\n",
            "--------------------------------------------------\n",
            "Percent of responses:\n",
            "Tandon               0.516129\n",
            "Washington Square    0.387097\n",
            "Lafayette            0.032258\n",
            "Bronx                0.016129\n",
            "Gramercy Green       0.016129\n",
            "Penn Station         0.008065\n",
            "Stamford CT          0.008065\n",
            "Hunts Point          0.008065\n",
            "Greenwich Village    0.008065\n",
            "Name: Destination, dtype: float64\n",
            "--------------------------------------------------\n",
            "Percent of responses:\n",
            "Classes       0.782258\n",
            "Work          0.096774\n",
            "Food          0.048387\n",
            "Recreation    0.032258\n",
            "Shopping      0.016129\n",
            "Class         0.008065\n",
            "Classes       0.008065\n",
            "classes       0.008065\n",
            "Name: Purpose, dtype: float64\n",
            "--------------------------------------------------\n",
            "Percent of responses:\n",
            "Waiting Period     0.274194\n",
            "Cost               0.145161\n",
            "Distance           0.112903\n",
            "Duration           0.112903\n",
            "Unreliability      0.096774\n",
            "Weather            0.088710\n",
            "Safety             0.080645\n",
            "Crowdedness        0.032258\n",
            "Unreliability      0.024194\n",
            "Waiting period     0.008065\n",
            "Waiting period     0.008065\n",
            "Cost, Safety       0.008065\n",
            "Weather            0.008065\n",
            "Name: Inconveniences, dtype: float64\n",
            "--------------------------------------------------\n",
            "Percent of responses:\n",
            "Clean                     0.161290\n",
            "Cost                      0.153226\n",
            "Speed                     0.129032\n",
            "Frequency                 0.104839\n",
            "Safety                    0.104839\n",
            "Comfortable               0.080645\n",
            "Seating Availability      0.072581\n",
            "Seating Availability      0.072581\n",
            "Reliability               0.064516\n",
            "Efficiency                0.016129\n",
            "Comfortable               0.008065\n",
            "Seating Availability.     0.008065\n",
            "Space                     0.008065\n",
            "Comfortable, Safety       0.008065\n",
            "Safety                    0.008065\n",
            "Name: Comforts, dtype: float64\n",
            "--------------------------------------------------\n"
          ],
          "name": "stdout"
        }
      ]
    },
    {
      "cell_type": "code",
      "metadata": {
        "colab": {
          "base_uri": "https://localhost:8080/"
        },
        "id": "wA5aMqIYre9M",
        "outputId": "23c7df6a-3751-4b75-8a5d-09f59e85914d"
      },
      "source": [
        "#Let's figure out where to put this \n",
        "# a use of input()\n",
        "factor1= input(\"Question 1: \")\n",
        "answer1= input(\"Answer 1: \")\n",
        "factor2=input(\"Question 2: \")\n",
        "answer2=input(\"Answer 2: \")"
      ],
      "execution_count": null,
      "outputs": [
        {
          "output_type": "stream",
          "text": [
            "Question 1: Origin\n",
            "Answer 1: Lafayette\n",
            "Question 2: Destination\n",
            "Answer 2: Tandon\n"
          ],
          "name": "stdout"
        }
      ]
    },
    {
      "cell_type": "code",
      "metadata": {
        "colab": {
          "base_uri": "https://localhost:8080/"
        },
        "id": "4Nfvg-xMrfDC",
        "outputId": "f3bd2993-10be-4e75-fa37-0dfe1f870c30"
      },
      "source": [
        "#Percent responses for only one value based on their inputs\n",
        "said_ans1=df[factor1] == answer1\n",
        "Percent1=said_ans1.value_counts(normalize=True)\n",
        "print(\"Percent of responses:\")\n",
        "print(Percent1)\n",
        "said_ans2=df[factor2] == answer2\n",
        "Percent2=said_ans2.value_counts(normalize=True)\n",
        "print(\"Percent of responses:\")\n",
        "print(Percent2)"
      ],
      "execution_count": null,
      "outputs": [
        {
          "output_type": "stream",
          "text": [
            "Percent of responses:\n",
            "False    0.862903\n",
            "True     0.137097\n",
            "Name: Origin, dtype: float64\n",
            "Percent of responses:\n",
            "True     0.516129\n",
            "False    0.483871\n",
            "Name: Destination, dtype: float64\n"
          ],
          "name": "stdout"
        }
      ]
    },
    {
      "cell_type": "code",
      "metadata": {
        "colab": {
          "base_uri": "https://localhost:8080/"
        },
        "id": "i4wyXnw49tjh",
        "outputId": "978d26a0-7117-44c6-91e2-7e949fe64134"
      },
      "source": [
        "#def TransportationProf():\n",
        "combinedProb=Percent1.get(True)*Percent2.get(True)\n",
        "TransportationProb=df['Preferred Mode of Transportation'].value_counts(normalize=True)\n",
        "TheirProb= combinedProb*TransportationProb*100\n",
        "print('Probability they will use: ')\n",
        "print(TheirProb)"
      ],
      "execution_count": null,
      "outputs": [
        {
          "output_type": "stream",
          "text": [
            "Probability they will use: \n",
            "MTA Transit/Subway        3.937431\n",
            "Walking                   1.426605\n",
            "NYU Bus Shuttle System    1.198348\n",
            "Taxi/ Uber/ Lyft          0.171193\n",
            "Bike                      0.171193\n",
            "Personal Vehicle          0.171193\n",
            "Name: Preferred Mode of Transportation, dtype: float64 %\n"
          ],
          "name": "stdout"
        }
      ]
    },
    {
      "cell_type": "code",
      "metadata": {
        "colab": {
          "base_uri": "https://localhost:8080/",
          "height": 394
        },
        "id": "BKH3xll44tN6",
        "outputId": "fce3ceea-a897-4e07-e036-668bcc9a92d1"
      },
      "source": [
        "plt.ylabel('Percent Chance')\n",
        "plt.xlabel('Transportation Method')\n",
        "plt.xticks(rotation=45)\n",
        "plt.title('Probabilty of Transportation Based on Inputs')\n",
        "plt.plot(TheirProb)"
      ],
      "execution_count": 29,
      "outputs": [
        {
          "output_type": "execute_result",
          "data": {
            "text/plain": [
              "[<matplotlib.lines.Line2D at 0x7fa06d32e3d0>]"
            ]
          },
          "metadata": {
            "tags": []
          },
          "execution_count": 29
        },
        {
          "output_type": "display_data",
          "data": {
            "image/png": "[encoded data removed]",
            "text/plain": [
              "<Figure size 432x288 with 1 Axes>"
            ]
          },
          "metadata": {
            "tags": [],
            "needs_background": "light"
          }
        }
      ]
    },
    {
      "cell_type": "markdown",
      "metadata": {
        "id": "AOki87xDrx0g"
      },
      "source": [
        "\n",
        "\n",
        "\n"
      ]
    },
    {
      "cell_type": "code",
      "metadata": {
        "colab": {
          "base_uri": "https://localhost:8080/",
          "height": 557
        },
        "id": "xKipfxS2GJHb",
        "outputId": "3d9948b8-c07b-47fa-d2c8-d6c137b4696f"
      },
      "source": [
        ""
      ],
      "execution_count": null,
      "outputs": [
        {
          "output_type": "error",
          "ename": "KeyError",
          "evalue": "ignored",
          "traceback": [
            "\u001b[0;31m---------------------------------------------------------------------------\u001b[0m",
            "\u001b[0;31mKeyError\u001b[0m                                  Traceback (most recent call last)",
            "\u001b[0;32m/usr/local/lib/python3.7/dist-packages/pandas/core/indexes/base.py\u001b[0m in \u001b[0;36mget_loc\u001b[0;34m(self, key, method, tolerance)\u001b[0m\n\u001b[1;32m   2897\u001b[0m             \u001b[0;32mtry\u001b[0m\u001b[0;34m:\u001b[0m\u001b[0;34m\u001b[0m\u001b[0;34m\u001b[0m\u001b[0m\n\u001b[0;32m-> 2898\u001b[0;31m                 \u001b[0;32mreturn\u001b[0m \u001b[0mself\u001b[0m\u001b[0;34m.\u001b[0m\u001b[0m_engine\u001b[0m\u001b[0;34m.\u001b[0m\u001b[0mget_loc\u001b[0m\u001b[0;34m(\u001b[0m\u001b[0mcasted_key\u001b[0m\u001b[0;34m)\u001b[0m\u001b[0;34m\u001b[0m\u001b[0;34m\u001b[0m\u001b[0m\n\u001b[0m\u001b[1;32m   2899\u001b[0m             \u001b[0;32mexcept\u001b[0m \u001b[0mKeyError\u001b[0m \u001b[0;32mas\u001b[0m \u001b[0merr\u001b[0m\u001b[0;34m:\u001b[0m\u001b[0;34m\u001b[0m\u001b[0;34m\u001b[0m\u001b[0m\n",
            "\u001b[0;32mpandas/_libs/index.pyx\u001b[0m in \u001b[0;36mpandas._libs.index.IndexEngine.get_loc\u001b[0;34m()\u001b[0m\n",
            "\u001b[0;32mpandas/_libs/index.pyx\u001b[0m in \u001b[0;36mpandas._libs.index.IndexEngine.get_loc\u001b[0;34m()\u001b[0m\n",
            "\u001b[0;32mpandas/_libs/hashtable_class_helper.pxi\u001b[0m in \u001b[0;36mpandas._libs.hashtable.PyObjectHashTable.get_item\u001b[0;34m()\u001b[0m\n",
            "\u001b[0;32mpandas/_libs/hashtable_class_helper.pxi\u001b[0m in \u001b[0;36mpandas._libs.hashtable.PyObjectHashTable.get_item\u001b[0;34m()\u001b[0m\n",
            "\u001b[0;31mKeyError\u001b[0m: 'factor1'",
            "\nThe above exception was the direct cause of the following exception:\n",
            "\u001b[0;31mKeyError\u001b[0m                                  Traceback (most recent call last)",
            "\u001b[0;32m<ipython-input-105-f5d451877c39>\u001b[0m in \u001b[0;36m<module>\u001b[0;34m()\u001b[0m\n\u001b[0;32m----> 1\u001b[0;31m \u001b[0msns\u001b[0m\u001b[0;34m.\u001b[0m\u001b[0mpairplot\u001b[0m\u001b[0;34m(\u001b[0m\u001b[0mdf\u001b[0m\u001b[0;34m[\u001b[0m\u001b[0;34m'factor1'\u001b[0m\u001b[0;34m]\u001b[0m\u001b[0;34m,\u001b[0m\u001b[0mdf\u001b[0m\u001b[0;34m[\u001b[0m\u001b[0;34m'factor2'\u001b[0m\u001b[0;34m]\u001b[0m\u001b[0;34m,\u001b[0m \u001b[0mkind\u001b[0m\u001b[0;34m=\u001b[0m\u001b[0;34m'reg'\u001b[0m\u001b[0;34m)\u001b[0m\u001b[0;34m\u001b[0m\u001b[0;34m\u001b[0m\u001b[0m\n\u001b[0m\u001b[1;32m      2\u001b[0m \u001b[0mplt\u001b[0m\u001b[0;34m.\u001b[0m\u001b[0mshow\u001b[0m\u001b[0;34m(\u001b[0m\u001b[0;34m)\u001b[0m\u001b[0;34m\u001b[0m\u001b[0;34m\u001b[0m\u001b[0m\n",
            "\u001b[0;32m/usr/local/lib/python3.7/dist-packages/pandas/core/frame.py\u001b[0m in \u001b[0;36m__getitem__\u001b[0;34m(self, key)\u001b[0m\n\u001b[1;32m   2904\u001b[0m             \u001b[0;32mif\u001b[0m \u001b[0mself\u001b[0m\u001b[0;34m.\u001b[0m\u001b[0mcolumns\u001b[0m\u001b[0;34m.\u001b[0m\u001b[0mnlevels\u001b[0m \u001b[0;34m>\u001b[0m \u001b[0;36m1\u001b[0m\u001b[0;34m:\u001b[0m\u001b[0;34m\u001b[0m\u001b[0;34m\u001b[0m\u001b[0m\n\u001b[1;32m   2905\u001b[0m                 \u001b[0;32mreturn\u001b[0m \u001b[0mself\u001b[0m\u001b[0;34m.\u001b[0m\u001b[0m_getitem_multilevel\u001b[0m\u001b[0;34m(\u001b[0m\u001b[0mkey\u001b[0m\u001b[0;34m)\u001b[0m\u001b[0;34m\u001b[0m\u001b[0;34m\u001b[0m\u001b[0m\n\u001b[0;32m-> 2906\u001b[0;31m             \u001b[0mindexer\u001b[0m \u001b[0;34m=\u001b[0m \u001b[0mself\u001b[0m\u001b[0;34m.\u001b[0m\u001b[0mcolumns\u001b[0m\u001b[0;34m.\u001b[0m\u001b[0mget_loc\u001b[0m\u001b[0;34m(\u001b[0m\u001b[0mkey\u001b[0m\u001b[0;34m)\u001b[0m\u001b[0;34m\u001b[0m\u001b[0;34m\u001b[0m\u001b[0m\n\u001b[0m\u001b[1;32m   2907\u001b[0m             \u001b[0;32mif\u001b[0m \u001b[0mis_integer\u001b[0m\u001b[0;34m(\u001b[0m\u001b[0mindexer\u001b[0m\u001b[0;34m)\u001b[0m\u001b[0;34m:\u001b[0m\u001b[0;34m\u001b[0m\u001b[0;34m\u001b[0m\u001b[0m\n\u001b[1;32m   2908\u001b[0m                 \u001b[0mindexer\u001b[0m \u001b[0;34m=\u001b[0m \u001b[0;34m[\u001b[0m\u001b[0mindexer\u001b[0m\u001b[0;34m]\u001b[0m\u001b[0;34m\u001b[0m\u001b[0;34m\u001b[0m\u001b[0m\n",
            "\u001b[0;32m/usr/local/lib/python3.7/dist-packages/pandas/core/indexes/base.py\u001b[0m in \u001b[0;36mget_loc\u001b[0;34m(self, key, method, tolerance)\u001b[0m\n\u001b[1;32m   2898\u001b[0m                 \u001b[0;32mreturn\u001b[0m \u001b[0mself\u001b[0m\u001b[0;34m.\u001b[0m\u001b[0m_engine\u001b[0m\u001b[0;34m.\u001b[0m\u001b[0mget_loc\u001b[0m\u001b[0;34m(\u001b[0m\u001b[0mcasted_key\u001b[0m\u001b[0;34m)\u001b[0m\u001b[0;34m\u001b[0m\u001b[0;34m\u001b[0m\u001b[0m\n\u001b[1;32m   2899\u001b[0m             \u001b[0;32mexcept\u001b[0m \u001b[0mKeyError\u001b[0m \u001b[0;32mas\u001b[0m \u001b[0merr\u001b[0m\u001b[0;34m:\u001b[0m\u001b[0;34m\u001b[0m\u001b[0;34m\u001b[0m\u001b[0m\n\u001b[0;32m-> 2900\u001b[0;31m                 \u001b[0;32mraise\u001b[0m \u001b[0mKeyError\u001b[0m\u001b[0;34m(\u001b[0m\u001b[0mkey\u001b[0m\u001b[0;34m)\u001b[0m \u001b[0;32mfrom\u001b[0m \u001b[0merr\u001b[0m\u001b[0;34m\u001b[0m\u001b[0;34m\u001b[0m\u001b[0m\n\u001b[0m\u001b[1;32m   2901\u001b[0m \u001b[0;34m\u001b[0m\u001b[0m\n\u001b[1;32m   2902\u001b[0m         \u001b[0;32mif\u001b[0m \u001b[0mtolerance\u001b[0m \u001b[0;32mis\u001b[0m \u001b[0;32mnot\u001b[0m \u001b[0;32mNone\u001b[0m\u001b[0;34m:\u001b[0m\u001b[0;34m\u001b[0m\u001b[0;34m\u001b[0m\u001b[0m\n",
            "\u001b[0;31mKeyError\u001b[0m: 'factor1'"
          ]
        }
      ]
    }
  ]
}